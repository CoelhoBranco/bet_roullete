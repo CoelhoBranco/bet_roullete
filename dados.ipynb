{
 "cells": [
  {
   "cell_type": "code",
   "execution_count": 64,
   "metadata": {},
   "outputs": [
    {
     "name": "stdout",
     "output_type": "stream",
     "text": [
      "number:red_color\n",
      "color: red\n",
      "red_color\n",
      "red\n",
      "Gain\n"
     ]
    }
   ],
   "source": [
    "import data\n",
    "\n",
    "def verify_result_estrategy(number, diretion):\n",
    "        print(number)\n",
    "        print(diretion)\n",
    "        if diretion == number:\n",
    "            return 'Loss'\n",
    "                \n",
    "        if diretion != number:\n",
    "            return \"Gain\"\n",
    "        \n",
    "def verify_black_white(numbers, color):\n",
    "        while True:\n",
    "            #last_numbers = self.get_numbers_history()\n",
    "            last_numbers = [4, 3]\n",
    "            \n",
    "            if last_numbers != numbers:\n",
    "                number = data.verify_br(numbers)\n",
    "                print(f'number:{number}')\n",
    "                print(f'color: {color}')\n",
    "                return verify_result_estrategy(number, color)\n",
    "                \n",
    "            else:\n",
    "                time.sleep(3)\n",
    "      \n",
    "result_final = verify_black_white([3,4],'red')                \n",
    "print(result_final)                "
   ]
  },
  {
   "cell_type": "code",
   "execution_count": 3,
   "metadata": {},
   "outputs": [],
   "source": [
    "from bs4 import BeautifulSoup\n",
    "\n",
    "with open('teste.html', 'r') as html:\n",
    "    html_doc = html.read()\n",
    "\n",
    "soup = BeautifulSoup(html_doc, 'html.parser')"
   ]
  },
  {
   "cell_type": "code",
   "execution_count": 23,
   "metadata": {},
   "outputs": [
    {
     "name": "stdout",
     "output_type": "stream",
     "text": [
      "black_color\n"
     ]
    }
   ],
   "source": [
    "\n",
    "color = {\n",
    "    1: 'red_color',\n",
    "    2: 'black_color',\n",
    "    3: 'red_color',\n",
    "    4: 'black_color',\n",
    "    5: 'red_color',\n",
    "    6: 'black_color',\n",
    "    7: 'red_color',\n",
    "    8: 'black_color',\n",
    "    9: 'red_color',\n",
    "    10: 'black_color',\n",
    "    11: 'black_color',\n",
    "    12: 'red_color',\n",
    "    13: 'black_color',\n",
    "    14: 'red_color',\n",
    "    15: 'black_color',\n",
    "    16: 'red_color',\n",
    "    17: 'black_color',\n",
    "    18: 'red_color',\n",
    "    19: 'red_color',\n",
    "    20: 'black_color',\n",
    "    21: 'red_color',\n",
    "    22: 'black_color',\n",
    "    23: 'red_color',\n",
    "    24: 'black_color',\n",
    "    25: 'red_color',\n",
    "    26: 'black_color',\n",
    "    27: 'red_color',\n",
    "    28: 'black_color',\n",
    "    29: 'black_color',\n",
    "    30: 'red_color',\n",
    "    31: 'black_color',\n",
    "    32: 'red_color',\n",
    "    33: 'black_color',\n",
    "    34: 'red_color',\n",
    "    35: 'black_color',\n",
    "    36: 'red_color'}\n",
    "\n",
    "print(color[2])"
   ]
  },
  {
   "cell_type": "code",
   "execution_count": 137,
   "metadata": {},
   "outputs": [
    {
     "name": "stdout",
     "output_type": "stream",
     "text": [
      "não é boleano\n"
     ]
    }
   ],
   "source": [
    "a=True\n",
    "a='true'\n",
    "if type(a) == bool:\n",
    "    \n",
    "    print(type(a))\n",
    "else:\n",
    "    print('não é boleano')"
   ]
  },
  {
   "cell_type": "code",
   "execution_count": 27,
   "metadata": {},
   "outputs": [
    {
     "data": {
      "text/plain": [
       "'black_color'"
      ]
     },
     "execution_count": 27,
     "metadata": {},
     "output_type": "execute_result"
    }
   ],
   "source": [
    "def verify_br(numbers):\n",
    "    numbers = int(numbers[0])\n",
    "    color = {\n",
    "    1: 'red_color',\n",
    "    2: 'black_color',\n",
    "    3: 'red_color',\n",
    "    4: 'black_color',\n",
    "    5: 'red_color',\n",
    "    6: 'black_color',\n",
    "    7: 'red_color',\n",
    "    8: 'black_color',\n",
    "    9: 'red_color',\n",
    "    10: 'black_color',\n",
    "    11: 'black_color',\n",
    "    12: 'red_color',\n",
    "    13: 'black_color',\n",
    "    14: 'red_color',\n",
    "    15: 'black_color',\n",
    "    16: 'red_color',\n",
    "    17: 'black_color',\n",
    "    18: 'red_color',\n",
    "    19: 'red_color',\n",
    "    20: 'black_color',\n",
    "    21: 'red_color',\n",
    "    22: 'black_color',\n",
    "    23: 'red_color',\n",
    "    24: 'black_color',\n",
    "    25: 'red_color',\n",
    "    26: 'black_color',\n",
    "    27: 'red_color',\n",
    "    28: 'black_color',\n",
    "    29: 'black_color',\n",
    "    30: 'red_color',\n",
    "    31: 'black_color',\n",
    "    32: 'red_color',\n",
    "    33: 'black_color',\n",
    "    34: 'red_color',\n",
    "    35: 'black_color',\n",
    "    36: 'red_color'}\n",
    "    \n",
    "    return color[numbers]\n",
    "    \n",
    "    \n",
    "verify_br([8])"
   ]
  },
  {
   "cell_type": "code",
   "execution_count": 138,
   "metadata": {},
   "outputs": [
    {
     "name": "stdout",
     "output_type": "stream",
     "text": [
      "red\n"
     ]
    }
   ],
   "source": [
    "option = 'black'\n",
    "if option == 'black':\n",
    "    option = 'red'\n",
    "\n",
    "elif option == 'red':\n",
    "    option = 'black'\n",
    "    \n",
    "print(option)"
   ]
  },
  {
   "cell_type": "code",
   "execution_count": 104,
   "metadata": {},
   "outputs": [
    {
     "name": "stdout",
     "output_type": "stream",
     "text": [
      "2.0\n",
      "4.0\n",
      "8.0\n"
     ]
    }
   ],
   "source": [
    "def martingale_value(value, multiplicator=2):\n",
    "    value_gale = float(value)*float(multiplicator)\n",
    "    return value_gale\n",
    "\n",
    "bet = 1\n",
    "for _ in range(3):\n",
    "\n",
    "    bet = martingale_value(bet)\n",
    "    print(bet)"
   ]
  },
  {
   "cell_type": "code",
   "execution_count": 15,
   "metadata": {},
   "outputs": [
    {
     "data": {
      "image/png": "[encoded data removed]",
      "text/plain": [
       "<PIL.Image.Image image mode=RGB size=102x37>"
      ]
     },
     "execution_count": 15,
     "metadata": {},
     "output_type": "execute_result"
    }
   ],
   "source": [
    "import pyautogui\n",
    "import time\n",
    "import cv2\n",
    "# esquerda, superior, largura e altura\n",
    "pyautogui.screenshot('even.png', region=(677, 858, 102,37))"
   ]
  },
  {
   "cell_type": "code",
   "execution_count": 13,
   "metadata": {},
   "outputs": [
    {
     "ename": "TypeError",
     "evalue": "cannot unpack non-iterable NoneType object",
     "output_type": "error",
     "traceback": [
      "\u001b[1;31m---------------------------------------------------------------------------\u001b[0m",
      "\u001b[1;31mTypeError\u001b[0m                                 Traceback (most recent call last)",
      "\u001b[1;32md:\\OneDrive - Syara Education\\aula\\dados.ipynb Cell 7'\u001b[0m in \u001b[0;36m<module>\u001b[1;34m\u001b[0m\n\u001b[0;32m      <a href='vscode-notebook-cell:/d%3A/OneDrive%20-%20Syara%20Education/aula/dados.ipynb#ch0000008?line=1'>2</a>\u001b[0m \u001b[39mimport\u001b[39;00m \u001b[39mtime\u001b[39;00m\n\u001b[0;32m      <a href='vscode-notebook-cell:/d%3A/OneDrive%20-%20Syara%20Education/aula/dados.ipynb#ch0000008?line=2'>3</a>\u001b[0m \u001b[39mimport\u001b[39;00m \u001b[39mcv2\u001b[39;00m\n\u001b[1;32m----> <a href='vscode-notebook-cell:/d%3A/OneDrive%20-%20Syara%20Education/aula/dados.ipynb#ch0000008?line=3'>4</a>\u001b[0m x, y \u001b[39m=\u001b[39mpyautogui\u001b[39m.\u001b[39mlocateCenterOnScreen(\u001b[39m'\u001b[39m\u001b[39mimg/even.png\u001b[39m\u001b[39m'\u001b[39m, confidence\u001b[39m=\u001b[39m\u001b[39m0.7\u001b[39m)\n\u001b[0;32m      <a href='vscode-notebook-cell:/d%3A/OneDrive%20-%20Syara%20Education/aula/dados.ipynb#ch0000008?line=4'>5</a>\u001b[0m pyautogui\u001b[39m.\u001b[39mclick(x, y)\n",
      "\u001b[1;31mTypeError\u001b[0m: cannot unpack non-iterable NoneType object"
     ]
    }
   ],
   "source": [
    "import pyautogui\n",
    "import time\n",
    "import cv2\n",
    "x, y =pyautogui.locateCenterOnScreen('img/even.png', confidence=0.7)\n",
    "pyautogui.click(x, y)"
   ]
  },
  {
   "cell_type": "code",
   "execution_count": 10,
   "metadata": {},
   "outputs": [
    {
     "name": "stdout",
     "output_type": "stream",
     "text": [
      "667 858\n"
     ]
    }
   ],
   "source": [
    "import pyautogui\n",
    "import time\n",
    "import cv2\n",
    "time.sleep(5)\n",
    "x, y = pyautogui.position()\n",
    "print(x, y)\n",
    "pyautogui.PAUSE = 3\n",
    "#time.sleep(5)\n",
    "#x, y = pyautogui.position()\n",
    "#print(x, y)\n",
    "#pyautogui.PAUSE = 3\n",
    "\n",
    "#achou =pyautogui.locateCenterOnScreen('estrela_real.png', confidence=0.8)\n",
    "#x, y = achou\n",
    "#print(x, y)\n",
    "estrelaX = 1207\n",
    "estrelaY = 942\n",
    "#pyautogui.click(x,y)\n",
    "# esquerda, superior, largura e altura\n",
    "#if achou != None:\n",
    "    #print(achou)\n",
    "#pyautogui.click('estrela.png')\n",
    "#print('fez o click na estrela')"
   ]
  },
  {
   "cell_type": "code",
   "execution_count": 17,
   "metadata": {},
   "outputs": [],
   "source": [
    "from bs4 import BeautifulSoup\n",
    "\n",
    "with open('iframe.html', 'r') as html:\n",
    "    html_doc = html.read()\n",
    "\n",
    "soup = BeautifulSoup(html_doc, 'html.parser')"
   ]
  },
  {
   "cell_type": "code",
   "execution_count": 1,
   "metadata": {},
   "outputs": [],
   "source": [
    "def number_verify(number):\n",
    "        if number%2 == 0 :\n",
    "            return True\n",
    "        else:\n",
    "            return False"
   ]
  },
  {
   "cell_type": "code",
   "execution_count": 72,
   "metadata": {},
   "outputs": [
    {
     "name": "stdout",
     "output_type": "stream",
     "text": [
      "36\n"
     ]
    }
   ],
   "source": [
    "\n",
    "    #print(span.attrs)\n",
    "    #print(span['data-role'])\n",
    "#print(span_html.atrrs)\n",
    "#for span in span_html:\n",
    "#print(span)"
   ]
  },
  {
   "cell_type": "code",
   "execution_count": 64,
   "metadata": {},
   "outputs": [
    {
     "ename": "NameError",
     "evalue": "name 'number_verify' is not defined",
     "output_type": "error",
     "traceback": [
      "\u001b[1;31m---------------------------------------------------------------------------\u001b[0m",
      "\u001b[1;31mNameError\u001b[0m                                 Traceback (most recent call last)",
      "\u001b[1;32md:\\OneDrive - Syara Education\\aula\\dados.ipynb Cell 7'\u001b[0m in \u001b[0;36m<cell line: 4>\u001b[1;34m()\u001b[0m\n\u001b[0;32m      <a href='vscode-notebook-cell:/d%3A/OneDrive%20-%20Syara%20Education/aula/dados.ipynb#ch0000005?line=1'>2</a>\u001b[0m lista_impar \u001b[39m=\u001b[39m []\n\u001b[0;32m      <a href='vscode-notebook-cell:/d%3A/OneDrive%20-%20Syara%20Education/aula/dados.ipynb#ch0000005?line=2'>3</a>\u001b[0m lista_par \u001b[39m=\u001b[39m []\n\u001b[1;32m----> <a href='vscode-notebook-cell:/d%3A/OneDrive%20-%20Syara%20Education/aula/dados.ipynb#ch0000005?line=3'>4</a>\u001b[0m \u001b[39mif\u001b[39;00m number_verify(number) \u001b[39m==\u001b[39m \u001b[39mTrue\u001b[39;00m :\n\u001b[0;32m      <a href='vscode-notebook-cell:/d%3A/OneDrive%20-%20Syara%20Education/aula/dados.ipynb#ch0000005?line=4'>5</a>\u001b[0m     lista_impar\u001b[39m.\u001b[39mappend(number)\n\u001b[0;32m      <a href='vscode-notebook-cell:/d%3A/OneDrive%20-%20Syara%20Education/aula/dados.ipynb#ch0000005?line=5'>6</a>\u001b[0m \u001b[39melse\u001b[39;00m:\n",
      "\u001b[1;31mNameError\u001b[0m: name 'number_verify' is not defined"
     ]
    }
   ],
   "source": [
    "number = 2\n",
    "lista_impar = []\n",
    "lista_par = []\n",
    "if number_verify(number) == True :\n",
    "    lista_impar.append(number)\n",
    "else:\n",
    "    lista_par.append(number)\n",
    "    \n",
    "if len(lista_impar) == 0 or len(lista_par) == 0:\n",
    "    pass\n",
    "\n",
    "else:\n",
    "    lista_par = []\n",
    "    lista_impar = []\n",
    "    \n",
    "    \n",
    "    \n",
    "\n",
    "    \n",
    "    "
   ]
  },
  {
   "cell_type": "code",
   "execution_count": 22,
   "metadata": {},
   "outputs": [
    {
     "name": "stdout",
     "output_type": "stream",
     "text": [
      "menor que 5\n"
     ]
    }
   ],
   "source": [
    "numero = 4\n",
    "\n",
    "if numero == 5:\n",
    "    print('o numero é 5')\n",
    "    \n",
    "elif numero > 5:\n",
    "    print('numero maior que 5')\n",
    "    \n",
    "else:\n",
    "    print('menor que 5')"
   ]
  },
  {
   "cell_type": "code",
   "execution_count": 28,
   "metadata": {},
   "outputs": [
    {
     "name": "stdout",
     "output_type": "stream",
     "text": [
      "['28', '26', '2', '25', '14', '14', '28', '23', '24', '7', '12']\n"
     ]
    }
   ],
   "source": [
    "numeros_html = soup.find_all(class_=\"value--877c6\")\n",
    "lista_numeros = numeros_html[:-1]\n",
    "#print(lista_4_numeros)\n",
    "lista_numeros_tratados = []\n",
    "for numero in lista_numeros:\n",
    "    #print(numero.text)\n",
    "    numero = numero.text\n",
    "    lista_numeros_tratados.append(numero)\n",
    "print(lista_numeros_tratados)\n",
    "    \n",
    "#print(numeros_html)\n",
    "    "
   ]
  },
  {
   "cell_type": "code",
   "execution_count": null,
   "metadata": {},
   "outputs": [],
   "source": []
  }
 ],
 "metadata": {
  "interpreter": {
   "hash": "01637b29c375dc0329a57bdb11364277071f71cd416c721b40decbc4b87a5b10"
  },
  "kernelspec": {
   "display_name": "Python 3.10.2 64-bit",
   "language": "python",
   "name": "python3"
  },
  "language_info": {
   "codemirror_mode": {
    "name": "ipython",
    "version": 3
   },
   "file_extension": ".py",
   "mimetype": "text/x-python",
   "name": "python",
   "nbconvert_exporter": "python",
   "pygments_lexer": "ipython3",
   "version": "3.10.2"
  },
  "orig_nbformat": 4
 },
 "nbformat": 4,
 "nbformat_minor": 2
}
